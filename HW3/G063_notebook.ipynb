{
 "cells": [
  {
   "cell_type": "markdown",
   "metadata": {},
   "source": [
    "Consider the winequality-red.csv dataset (available at the webpage) where the goal is to estimate the quality (sensory appreciation) of a wine based on physicochemical inputs.\n",
    "Using a 80-20 training-test split with a fixed seed (random_state=0), you are asked to learn MLP regressors to answer the following questions.\n",
    "Given their stochastic behavior, average the performance of each MLP from 10 runs (for reproducibility consider seeding the MLPs with random_state ∈{1..10})."
   ]
  },
  {
   "cell_type": "markdown",
   "metadata": {},
   "source": [
    "# 1. \n",
    "Learn a MLP regressor with 2 hidden layers of size 10, rectifier linear unit activation on all nodes, and early stopping with 20% of training data set aside for validation. All remaining parameters (e.g., loss, batch size, regularization term, solver) should be set as default. Plot the distribution of the residues (in absolute value) using a histogram."
   ]
  },
  {
   "cell_type": "code",
   "execution_count": 1,
   "metadata": {},
   "outputs": [
    {
     "data": {
      "image/png": "[encoded data removed]",
      "text/plain": [
       "<Figure size 640x480 with 1 Axes>"
      ]
     },
     "metadata": {},
     "output_type": "display_data"
    }
   ],
   "source": [
    "import pandas as pd\n",
    "import numpy as np\n",
    "from sklearn.model_selection import train_test_split\n",
    "from sklearn.neural_network import MLPRegressor\n",
    "import matplotlib.pyplot as plt\n",
    "from warnings import filterwarnings\n",
    "filterwarnings('ignore')\n",
    "\n",
    "# winequality-red.csv dataset\n",
    "data = pd.read_csv(\"winequality-red.csv\", delimiter=';')\n",
    "X = data.drop('quality', axis=1)\n",
    "y = np.ravel(data['quality'])\n",
    "\n",
    "# 80-20 training-test split with a fixed seed\n",
    "X_train, X_test, y_train, y_test = train_test_split(X, y, test_size=0.2, random_state=0)\n",
    "\n",
    "residues = []\n",
    "num_runs = 10\n",
    "\n",
    "# average the performance of each MLP Regressor over 10 runs\n",
    "for seed in range(1, num_runs + 1):\n",
    "    # Mlp regressor\n",
    "    mlp_regressor = MLPRegressor(hidden_layer_sizes=(10, 10),\n",
    "                                activation='relu',\n",
    "                                early_stopping=True,\n",
    "                                validation_fraction=0.2,\n",
    "                                random_state=seed)\n",
    "\n",
    "    mlp_regressor.fit(X_train, y_train)\n",
    "    y_pred = mlp_regressor.predict(X_test)\n",
    "    \n",
    "    # residues = y_test - y_pred\n",
    "    residues.extend(np.abs(y_test - y_pred))\n",
    "\n",
    "# Plot the distribution of the residues (in absolute value) using a histogram\n",
    "plt.hist(residues, bins=20, edgecolor='k')\n",
    "plt.xlabel('Absolute Residues')\n",
    "plt.title('Distribution of the Residues')\n",
    "plt.show()"
   ]
  },
  {
   "cell_type": "markdown",
   "metadata": {},
   "source": [
    "# 2.\n",
    "Since we are in the presence of a integer regression task, a recommended trick is to round and bound estimates. Assess the impact of these operations on the MAE of the MLP learnt in previous question."
   ]
  },
  {
   "cell_type": "code",
   "execution_count": 3,
   "metadata": {},
   "outputs": [
    {
     "name": "stdout",
     "output_type": "stream",
     "text": [
      "MAE: 0.509717\n",
      "MAE with rounding and bounding: 0.438750\n"
     ]
    }
   ],
   "source": [
    "import pandas as pd\n",
    "import numpy as np\n",
    "from sklearn.model_selection import train_test_split\n",
    "from sklearn.neural_network import MLPRegressor\n",
    "from sklearn.metrics import mean_absolute_error\n",
    "from warnings import filterwarnings\n",
    "filterwarnings('ignore')\n",
    "\n",
    "# winequality-red.csv dataset\n",
    "data = pd.read_csv(\"winequality-red.csv\", delimiter=';')\n",
    "X = data.drop('quality', axis=1)\n",
    "y = np.ravel(data['quality'])\n",
    "\n",
    "# 80-20 training-test split with a fixed seed\n",
    "X_train, X_test, y_train, y_test = train_test_split(X, y, test_size=0.2, random_state=0)\n",
    "\n",
    "mae_original = []\n",
    "mae_with_round_and_bound = []\n",
    "num_runs = 10\n",
    "\n",
    "#bounds\n",
    "bound1 = 1\n",
    "bound2 = 10\n",
    "\n",
    "for seed in range(1, num_runs + 1):\n",
    "    mlp_regressor = MLPRegressor(hidden_layer_sizes=(10, 10),\n",
    "                                activation='relu',\n",
    "                                early_stopping=True,\n",
    "                                validation_fraction=0.2,\n",
    "                                random_state=seed)\n",
    "\n",
    "    mlp_regressor.fit(X_train, y_train)\n",
    "    y_pred = mlp_regressor.predict(X_test)\n",
    "    \n",
    "\n",
    "    # MAE without rounding or bounding\n",
    "    mae_original.append(mean_absolute_error(y_test, y_pred))\n",
    "    \n",
    "    # MAE with rounding and bounding\n",
    "    y_pred_rounded = np.round(y_pred)\n",
    "    y_pred_round_bound = np.clip(y_pred_rounded, bound1, bound2)\n",
    "    mae_with_round_and_bound.append(mean_absolute_error(y_test, y_pred_round_bound))\n",
    "\n",
    "#calculate average MAE\n",
    "avg_mae = np.mean(mae_original)\n",
    "avg_mae_round_bound = np.mean(mae_with_round_and_bound)\n",
    "\n",
    "print(f\"MAE: {avg_mae:.6f}\")\n",
    "print(f\"MAE with rounding and bounding: {avg_mae_round_bound:.6f}\")"
   ]
  },
  {
   "cell_type": "markdown",
   "metadata": {},
   "source": [
    "# 3.\n",
    "Similarly assess the impact on RMSE from replacing early stopping by a well-defined number of iterations in {20,50,100,200} (where one iteration corresponds to a batch)."
   ]
  },
  {
   "cell_type": "code",
   "execution_count": 4,
   "metadata": {},
   "outputs": [
    {
     "name": "stdout",
     "output_type": "stream",
     "text": [
      "Average RMSE with 20 iterations: 1.40398\n",
      "Average RMSE with 50 iterations: 0.79961\n",
      "Average RMSE with 100 iterations: 0.69404\n",
      "Average RMSE with 200 iterations: 0.65545\n"
     ]
    }
   ],
   "source": [
    "import pandas as pd\n",
    "import numpy as np\n",
    "from sklearn.model_selection import train_test_split\n",
    "from sklearn.neural_network import MLPRegressor\n",
    "from sklearn.metrics import mean_squared_error\n",
    "from warnings import filterwarnings\n",
    "filterwarnings('ignore')\n",
    "\n",
    "# winequality-red.csv dataset\n",
    "data = pd.read_csv(\"winequality-red.csv\", delimiter=';')\n",
    "X = data.drop('quality', axis=1)\n",
    "y = np.ravel(data['quality'])\n",
    "\n",
    "# 80-20 training-test split with a fixed seed\n",
    "X_train, X_test, y_train, y_test = train_test_split(X, y, test_size=0.2, random_state=0)\n",
    "\n",
    "num_runs = 10\n",
    "rmse_values = []\n",
    "iteration_counts = [20, 50, 100, 200]\n",
    "\n",
    "for num_iterations in iteration_counts:\n",
    "    rmse_iterations = []\n",
    "\n",
    "    for seed in range(1, num_runs + 1):\n",
    "        \n",
    "        mlp_regressor = MLPRegressor(hidden_layer_sizes=(10, 10),\n",
    "                                    activation='relu',\n",
    "                                    max_iter=num_iterations,\n",
    "                                    random_state=seed)\n",
    "\n",
    "        mlp_regressor.fit(X_train, y_train)\n",
    "        y_pred = mlp_regressor.predict(X_test)\n",
    "        \n",
    "        rmse = np.sqrt(mean_squared_error(y_test,y_pred))\n",
    "        rmse_iterations.append(rmse)\n",
    "\n",
    "    rmse_values.append(np.mean(rmse_iterations))\n",
    "\n",
    "for i, num_iterations in enumerate(iteration_counts):\n",
    "    print(f\"Average RMSE with {num_iterations} iterations: {rmse_values[i]:.5f}\")"
   ]
  },
  {
   "cell_type": "markdown",
   "metadata": {},
   "source": [
    "# 4.\n",
    "Critically comment the results obtained in previous question, hypothesizing at least one reason why early stopping favors and/or worsens performance."
   ]
  },
  {
   "cell_type": "markdown",
   "metadata": {},
   "source": [
    "Analisando os resultados obtidos na questão anterior, podemos observar que a diminuição mais acentuada do RMSE ocorre entre 20 e 50 iterações (diminuição de 0.60437), e diminui de modo algo significativo ainda entre as 50 e 100 iterações (diminuição de 0.10557); entre as 100 e 200 iterações, o RMSE mal diminui (diminuição de 0.03858), indicando que começa a estagnar em torno desse valor (0.65545). \n",
    "Podemos então concluir que, com base na diferença entre as 20 e 50 iterações o modelo aqui ainda é passível de melhoria, e mais iterações serão benéficas para melhorar a sua performance, e ainda não se encontra a convergir para uma solução ótima; com base na diferença entre as 50 e 100 iterações, percebemos que a performance do modelo ainda melhorou mas que este começa a convergir, e que apesar de se poderem executar mais iterações, a melhoria será cada vez mais pequena. Finalmente, observando a pequena diferença entre as 100 e 200 iterações, conclui-se que mais iterações dificilmente irão favorecer a performance do modelo, que aparenta estar a convergir. \n",
    "\n",
    "Como visto nas teóricas, o early stopping é uma boa técnica para prevenir overfitting do modelo, que no caso de iterações bem definidas aparenta ocorrer a partir das 200; portanto, apresenta-se como melhor alternativa para o caso de iterações bem definidas superiores às 200. Comparando com o RMSE para 50, 100 e 200 iterações bem definidas, este varia entre 0.79961 (50 iterações) e 0.65545 (200 iterações), sendo as iterações bem definidas uma melhor alternativa ao early stopping neste intervalo, que apresenta um RMSE de 0.81888. Finalmente, o early stopping constitui uma melhor atlternativa ao caso de 20 iterações bem definidas (em que o RMSE é 1.40398), onde o modelo aparenta não estar próximo de convergir ainda, com um erro elevado."
   ]
  }
 ],
 "metadata": {
  "kernelspec": {
   "display_name": "Python 3",
   "language": "python",
   "name": "python3"
  },
  "language_info": {
   "codemirror_mode": {
    "name": "ipython",
    "version": 3
   },
   "file_extension": ".py",
   "mimetype": "text/x-python",
   "name": "python",
   "nbconvert_exporter": "python",
   "pygments_lexer": "ipython3",
   "version": "3.11.6"
  }
 },
 "nbformat": 4,
 "nbformat_minor": 2
}
